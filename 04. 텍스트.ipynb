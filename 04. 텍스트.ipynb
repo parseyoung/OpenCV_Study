{
 "cells": [
  {
   "cell_type": "markdown",
   "metadata": {},
   "source": [
    "## 4. 텍스트"
   ]
  },
  {
   "cell_type": "markdown",
   "metadata": {},
   "source": [
    "## OpenCV에서 사용하는 글꼴 종류\n",
    "1. cv2.FONT_HERSHEY_SIMPLEX : 보통 크기의 산 세리프(sans-serif) 글꼴\n",
    "1. cv2.FONT_HERSHEY_PLANIN : 작은 크기의 산 세리프 글꼴\n",
    "1. cv2.FONT_HERSHEY_SCRIPT_SIMPLEX : 필기체 스타일의 글꼴\n",
    "1. cv2.FONT_HERSHEY_TRIPLEX : 보통 크기의 세리프 글꼴\n",
    "1. cv2.FONT_ITALIC : 기울임(이탤릭체) #다른 글짜와 함께 사용"
   ]
  },
  {
   "cell_type": "code",
   "execution_count": 1,
   "metadata": {},
   "outputs": [],
   "source": [
    "import numpy as np\n",
    "import cv2\n",
    "\n",
    "img = np.zeros((480, 640, 3), dtype=np.uint8)\n",
    " #0을 채우는 데이터, 세로 480, 가로 640, 3개의 채널을 가지는 데이터\n",
    "    \n",
    "COLOR = (255, 255, 255) #흰색\n",
    "THICKNESS = 1 #두깨\n",
    "SCALE = 1 #글자 크기\n",
    "\n",
    "cv2.putText(img, \"Nado Simplex\", (20, 50), cv2.FONT_HERSHEY_SIMPLEX, SCALE, COLOR, THICKNESS) #글자 쓰기 위한 함수 : putText\n",
    "#그릴 위치(img), \"텍스트 내용\", (시작 위치), 폰트 종류, 크기, 색, 두깨\n",
    "\n",
    "cv2.putText(img, \"Nado Simplex\", (20, 150), cv2.FONT_HERSHEY_PLAIN, SCALE, COLOR, THICKNESS)\n",
    "cv2.putText(img, \"Nado Simplex\", (20, 250), cv2.FONT_HERSHEY_SCRIPT_SIMPLEX, SCALE, COLOR, THICKNESS)\n",
    "cv2.putText(img, \"Nado Simplex\", (20, 350), cv2.FONT_HERSHEY_TRIPLEX, SCALE, COLOR, THICKNESS)\n",
    "cv2.putText(img, \"Nado Simplex\", (20, 450), cv2.FONT_HERSHEY_TRIPLEX | cv2.FONT_ITALIC, SCALE, COLOR, THICKNESS)\n",
    "\n",
    "cv2.imshow('img', img) #'img'라는 제목으로 img를 보여줌\n",
    "cv2.waitKey(0) #무한대기\n",
    "cv2.destroyAllWindows() #사용자가 키를 입력하여 창을 닫음"
   ]
  },
  {
   "cell_type": "markdown",
   "metadata": {},
   "source": [
    "## 한글 우회 방법\n",
    "\n",
    "OpenCV에서는 한글을 제공하지 않아 우회를 해야 함"
   ]
  },
  {
   "cell_type": "code",
   "execution_count": null,
   "metadata": {},
   "outputs": [],
   "source": [
    "import numpy as np\n",
    "import cv2\n",
    "#PIL (Python image Library)\n",
    "from PIL import ImageFont, ImageDraw, Image #PIL library의 도움을 받아 한글 사용\n",
    "\n",
    "def myPutText(src, text, pos, font_size, font_color): #myPutText라고 정의 한 거임, 바꿔도 상관 없음\n",
    "    #src: 그릴 대상, 텍스트 내용, 좌표(시작위치), 폰트 사이즈, 색상\n",
    "    img_pil = Image.fromarray(src)\n",
    "    draw = ImageDraw.Draw(img_pil)\n",
    "    font = ImageFont.truetype('fonts/gulim.ttc', font_size)\n",
    "    draw.text(pos, text, font=font, fill=font_color)\n",
    "    return np.array(img_pil) #한글 우회 하기 위해 여기까지 그대로 그냥 사용하면 됨\n",
    "\n",
    "img = np.zeros((480, 640, 3), dtype=np.uint8)\n",
    "\n",
    "FONT_SIZE = 30 # SCALE과 다름 \n",
    "COLOR = (255, 255, 255) # 흰색\n",
    "\n",
    "img = myPutText(img, \"나는야 박세영\", (20, 50), FONT_SIZE, COLOR)\n",
    "    #src: 그릴 대상, 텍스트 내용, 좌표(시작위치), 폰트 사이즈, 색상\n",
    "    \n",
    "cv2.imshow('img', img) #'img'라는 제목으로 img를 보여줌\n",
    "cv2.waitKey(0) #무한대기\n",
    "cv2.destroyAllWindows() #사용자가 키를 입력하여 창을 닫음"
   ]
  }
 ],
 "metadata": {
  "kernelspec": {
   "display_name": "Python 3",
   "language": "python",
   "name": "python3"
  },
  "language_info": {
   "codemirror_mode": {
    "name": "ipython",
    "version": 3
   },
   "file_extension": ".py",
   "mimetype": "text/x-python",
   "name": "python",
   "nbconvert_exporter": "python",
   "pygments_lexer": "ipython3",
   "version": "3.7.6"
  }
 },
 "nbformat": 4,
 "nbformat_minor": 4
}
