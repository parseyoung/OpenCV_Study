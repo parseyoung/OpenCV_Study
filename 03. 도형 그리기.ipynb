{
 "cells": [
  {
   "cell_type": "markdown",
   "metadata": {},
   "source": [
    "# 3. 도형그리기\n",
    "이미지나 동영상에서 특정위치를 표시하는데 사용 가능\n",
    "예를 들면 얼굴인식의 경우 얼굴에 사각형, 눈에 동그라미\n",
    "사물을 표시할때 사물에 도형 표시\n",
    "# 빈 스케치북 만들기"
   ]
  },
  {
   "cell_type": "code",
   "execution_count": 5,
   "metadata": {},
   "outputs": [],
   "source": [
    "import cv2\n",
    "import numpy as np\n",
    "\n",
    "\n",
    "#세로 480 x 가로 640, 3 channel (RGB)에 해당하는 스케치북 만들기\n",
    "img = np.zeros((480, 640, 3), dtype=np.uint8) #값을 모두 0으로 채워진 데이터 생성\n",
    "#img[:] = (255, 255, 255) #전체공간을 (B, G, R)를 흰색(255)로 채우기 #openCV는 BGR순서임\n",
    "#print(img)\n",
    "cv2.imshow('img', img)\n",
    "cv2.waitKey(0)\n",
    "cv2.destroyAllWindows()\n"
   ]
  },
  {
   "cell_type": "markdown",
   "metadata": {},
   "source": [
    "# 일부 영역 색칠"
   ]
  },
  {
   "cell_type": "code",
   "execution_count": 6,
   "metadata": {},
   "outputs": [],
   "source": [
    "import cv2\n",
    "import numpy as np\n",
    "\n",
    "\n",
    "\n",
    "img = np.zeros((480, 640, 3), dtype=np.uint8) #값을 모두 0으로 채워진 데이터 생성\n",
    "img[100:200, 200:300] = (255, 255, 255) #가로, 세로 넓이 = 흰색으로 채움\n",
    "#print(img)\n",
    "\n",
    "cv2.imshow('img', img)\n",
    "cv2.waitKey(0)\n",
    "cv2.destroyAllWindows()"
   ]
  },
  {
   "cell_type": "markdown",
   "metadata": {},
   "source": [
    "# 직선\n",
    "직선의 종류(line type)\n",
    "\n",
    "1. cv2.LINE_4 : 상하좌우 4 방향으로 연결된 선\n",
    "1. cv2.LINE_8 : 대각선을 포함한 8 방향으로 연결된 선(기본값)\n",
    "1. cv2.LINE_AA : 부드러운 선(anti-aliasing)\n"
   ]
  },
  {
   "cell_type": "code",
   "execution_count": 4,
   "metadata": {},
   "outputs": [],
   "source": [
    "import cv2\n",
    "import numpy as np\n",
    "\n",
    "img = np.zeros((480, 640, 3), dtype= np.uint8)\n",
    "\n",
    "COLOR = (0, 255, 255) #BRG : YELLOW, 색\n",
    "THICKNESS = 3 #두깨\n",
    "\n",
    "cv2.line(img, (50, 100), (400, 50), COLOR, THICKNESS, cv2.LINE_8)\n",
    "#그릴 위치, 시작 점, 끝 점, 색, 두깨, 선 종류 \n",
    "cv2.line(img, (50, 200), (400, 150), COLOR, THICKNESS, cv2.LINE_4)\n",
    "cv2.line(img, (50, 300), (400, 250), COLOR, THICKNESS, cv2.LINE_AA)\n",
    "\n",
    "\n",
    "cv2.imshow('img', img)\n",
    "cv2.waitKey(0)\n",
    "cv2.destroyAllWindows()"
   ]
  },
  {
   "cell_type": "markdown",
   "metadata": {},
   "source": [
    "## 원"
   ]
  },
  {
   "cell_type": "code",
   "execution_count": 3,
   "metadata": {},
   "outputs": [],
   "source": [
    "import cv2\n",
    "import numpy as np\n",
    "\n",
    "img = np.zeros((480, 640, 3), dtype= np.uint8)\n",
    "\n",
    "COLOR = (255, 255, 0) #BRG 옥색\n",
    "RADIUS = 50 #반지름\n",
    "THICKNESS = 10 #두깨\n",
    "cv2.circle(img, (200, 100), RADIUS, COLOR, THICKNESS, cv2.LINE_AA) #속이 빈 원\n",
    "#그릴 위치(=img), 원의 중심점, 반지름 , 색깔, 두깨, 선 종류\n",
    "cv2.circle(img, (400, 100), RADIUS, COLOR, cv2.FILLED, cv2.LINE_AA) #cv2.FILLD or -1 속이 꽉 찬 원\n",
    "\n",
    "cv2.imshow('img', img)\n",
    "cv2.waitKey(0)\n",
    "cv2.destroyAllWindows()"
   ]
  },
  {
   "cell_type": "markdown",
   "metadata": {},
   "source": [
    "## 사각형"
   ]
  },
  {
   "cell_type": "code",
   "execution_count": 2,
   "metadata": {},
   "outputs": [],
   "source": [
    "import cv2\n",
    "import numpy as np\n",
    "\n",
    "img = np.zeros((480, 640, 3), dtype=np.uint8)\n",
    "\n",
    "COLOR = (0, 255, 0) #BRG 초록색\n",
    "THICKNESS = 3 #두깨\n",
    "\n",
    "cv2.rectangle(img, (100, 100), (200, 200), COLOR, THICKNESS) #속이 빈 사각형 \n",
    "# 그릴 위치, 왼쪽 위 좌표, 오른쪽 아래 좌표, 색깔, 두깨\n",
    "\n",
    "cv2.rectangle(img, (300, 100), (400, 300), COLOR, -1) #꽉 찬 사각형\n",
    "\n",
    "cv2.imshow('img', img)\n",
    "cv2.waitKey(0)\n",
    "cv2.destroyAllWindows()\n"
   ]
  },
  {
   "cell_type": "markdown",
   "metadata": {},
   "source": [
    "## 다각형\n",
    "다각형 같은 경우, 좌표를 각 각 정의해야 함\n",
    "선을 이을 위치 여러 지점을 정의하면 이어서 만든다\n",
    "이번 예제에서는 포인터 변수 pts1을 만들예정 [], [], [] <- 각각 세개의 지점으로 삼각형이 됨"
   ]
  },
  {
   "cell_type": "code",
   "execution_count": 1,
   "metadata": {},
   "outputs": [],
   "source": [
    "import cv2\n",
    "import numpy as np\n",
    "img = np.zeros((480, 640, 3), dtype=np.uint8)\n",
    "\n",
    "COLOR = (0, 0, 255) #BGR 빨간색\n",
    "THICKNESS = 3 #두깨\n",
    "\n",
    "pts1 = np.array([[100,100], [200, 100], [100, 200]])\n",
    "pts2 = np.array([[200, 100], [300, 100], [300, 200]])\n",
    "#cv2.polylines(img, [pts1], True, COLOR, THICKNESS, cv2.LINE_AA) \n",
    "#cv2.polylines(img, [pts2], True, COLOR, THICKNESS, cv2.LINE_AA)\n",
    "\n",
    "pts3 = np.array([[[100, 300], [200, 300], [100, 400]], [[200, 300], [300, 300], [300, 400]]]) \n",
    "#대괄호를 또 한번 리스트로 감 싼다(대괄호 갯수 차이 비교 해보기)\n",
    "\n",
    "cv2.polylines(img, [pts1, pts2], True, COLOR, THICKNESS, cv2.LINE_AA) #속이 빈 다각형\n",
    "# 그릴 위치, 그릴 좌표들(list), 닫힘 여부, 색, 두깨, 선 종류\n",
    "#cv2.polylines(img, [pts1], True, COLOR, THICKNESS, cv2.LINE_AA) \n",
    "#cv2.polylines(img, [pts2], True, COLOR, THICKNESS, cv2.LINE_AA)\n",
    "#다각형을 그리기 위해서는 polylines / []의 리스트 형태로 하나의 지점을 정의 / True: 닫힘 선을 모두 이음 첫선 끝선 이음, False는 열림\n",
    "# [pts1, pts2] <- 그리고 싶은 지점을 얼마든지 정의 후 리스트 형태로 넣어주면 한번에 넣어 줌\n",
    "\n",
    "cv2.fillPoly(img, pts3, COLOR, cv2.LINE_AA) # 속이 꽉 찬 사각형 이므로 닫힘 여부와 두깨는 입력X\n",
    "# 그릴 위치, 그릴 좌표들, 색, 선 종류\n",
    "\n",
    "cv2.imshow('img', img)\n",
    "cv2.waitKey(0)\n",
    "cv2.destroyAllWindows()"
   ]
  }
 ],
 "metadata": {
  "kernelspec": {
   "display_name": "Python 3",
   "language": "python",
   "name": "python3"
  },
  "language_info": {
   "codemirror_mode": {
    "name": "ipython",
    "version": 3
   },
   "file_extension": ".py",
   "mimetype": "text/x-python",
   "name": "python",
   "nbconvert_exporter": "python",
   "pygments_lexer": "ipython3",
   "version": "3.7.6"
  }
 },
 "nbformat": 4,
 "nbformat_minor": 4
}
